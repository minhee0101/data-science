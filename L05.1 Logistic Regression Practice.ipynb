{
  "cells": [
    {
      "cell_type": "code",
      "execution_count": 33,
      "metadata": {
        "colab": {
          "base_uri": "https://localhost:8080/"
        },
        "id": "tbvs8x9t1fVn",
        "outputId": "572eeb82-e74d-4db5-de5b-949c111da8a3"
      },
      "outputs": [
        {
          "name": "stdout",
          "output_type": "stream",
          "text": [
            "epoch: 0, cost: 0.693147, w: -0.154167, b: 0.083333\n",
            "epoch: 100, cost: 0.420221, w: -1.451281, b: 4.406925\n",
            "epoch: 200, cost: 0.398721, w: -1.898433, b: 5.773750\n",
            "epoch: 300, cost: 0.390820, w: -2.174322, b: 6.609553\n",
            "epoch: 400, cost: 0.387009, w: -2.367329, b: 7.191599\n",
            "epoch: 500, cost: 0.384924, w: -2.510626, b: 7.622530\n",
            "epoch: 600, cost: 0.383699, w: -2.620779, b: 7.953164\n",
            "epoch: 700, cost: 0.382944, w: -2.707397, b: 8.212804\n",
            "epoch: 800, cost: 0.382463, w: -2.776597, b: 8.420023\n",
            "epoch: 900, cost: 0.382149, w: -2.832521, b: 8.587363\n",
            "epoch: 1000, cost: 0.381941, w: -2.878112, b: 8.723699\n"
          ]
        }
      ],
      "source": [
        "import torch\n",
        "\n",
        "x_train = torch.FloatTensor([[1],[2],[3],[4],[5],[2.5],[3.5],[0],[3.1],[2.7],[2.8],[2.9]])\n",
        "y_train = torch.FloatTensor([[1],[1],[1],[0],[0],[0],[0],[1],[0],[1],[1],[1]])\n",
        "\n",
        "w = torch.zeros((1,1),requires_grad = True)\n",
        "b = torch.zeros((1,1),requires_grad = True)\n",
        "\n",
        "#print(w)\n",
        "#print(b)\n",
        "\n",
        "#lr = 1.0\n",
        "\n",
        "optimizer = torch.optim.SGD([w,b], lr = 1.0)\n",
        "\n",
        "for epoch in range(1001):\n",
        "  #w.requires_grad_(True)   #기울기 계산 할거다~\n",
        "  #b.requires_grad_(True)\n",
        "\n",
        "  hypothesis = torch.sigmoid(torch.mm(x_train, w ) + b) #가설함수  -> 각각 입력에 대해 출력을 계산한것?\n",
        "  cost = torch.mean(- y_train * torch.log(hypothesis) - (1 - y_train) * torch.log(1 - hypothesis))\n",
        "\n",
        "  optimizer.zero_grad() #기울기값 초기화 -> 이거 안하면 기울기 값이 누적되서 문제가 생깁니다!\n",
        "  cost.backward() #기울기 계산\n",
        "  optimizer.step() # 파라미터 업데이트\n",
        "\n",
        "  #with torch.no_grad():  #no_grad() -> 여기서는 무슨 연산을 해도 그래프를 그리지 않겠다! (원래 내부적으로 pytorch에서 그래프를 그린데)\n",
        "    #파라미터 업데이트\n",
        "    #w = w - lr * w.grad\n",
        "    #b = b - lr * b.grad\n",
        "\n",
        "  if epoch % 100 == 0:\n",
        "    print('epoch: {}, cost: {:.6f}, w: {:.6f}, b: {:.6f}'.format(epoch, cost.item(), w.squeeze(), b.squeeze()))\n",
        "\n",
        "  "
      ]
    },
    {
      "cell_type": "code",
      "execution_count": 22,
      "metadata": {
        "colab": {
          "base_uri": "https://localhost:8080/"
        },
        "id": "pXjQyJWe5Fw_",
        "outputId": "87e686c3-2b4f-4d9f-cebf-f765ab8c5d42"
      },
      "outputs": [
        {
          "name": "stdout",
          "output_type": "stream",
          "text": [
            "tensor([[0.],\n",
            "        [1.]])\n"
          ]
        }
      ],
      "source": [
        "with torch.no_grad():\n",
        "  x_test = torch.FloatTensor([[4.5],[1.1]])\n",
        "  y_test = torch.sigmoid(torch.mm(x_test,w)+b)\n",
        "  print(torch.round(y_test))"
      ]
    },
    {
      "cell_type": "code",
      "execution_count": 44,
      "metadata": {
        "colab": {
          "base_uri": "https://localhost:8080/",
          "height": 279
        },
        "id": "Q0_4TwEO82L9",
        "outputId": "f75eded9-0042-4ddc-b694-e9955c5f9466"
      },
      "outputs": [
        {
          "data": {
            "image/png": "[encoded data removed]",
            "text/plain": [
              "<Figure size 432x288 with 1 Axes>"
            ]
          },
          "metadata": {
            "needs_background": "light"
          },
          "output_type": "display_data"
        }
      ],
      "source": [
        "import matplotlib.pyplot as plt\n",
        "\n",
        "with torch.no_grad():\n",
        "  x_tmp = torch.linspace(0,5,100).unsqueeze(1) #linspace 는 0~5 까지 100개로 나눠라 라는 뜻!\n",
        "  #print(x_tmp)\n",
        "  y_tmp = torch.sigmoid(torch.mm(x_tmp,w)+b)\n",
        "\n",
        "  plt.plot(x_tmp,y_tmp,\":r\",label=\"Fitting line\")\n",
        "  plt.scatter(x_train,y_train,c= \"black\",label=\"Training data\")\n",
        "  plt.xlabel(\"Input (X)\")\n",
        "  plt.ylabel(\"Probability of 1 (Y)\")\n",
        "  plt.legend()\n",
        "  plt.show()"
      ]
    },
    {
      "cell_type": "code",
      "execution_count": 39,
      "metadata": {
        "colab": {
          "base_uri": "https://localhost:8080/"
        },
        "id": "KfJrVJu0BBxT",
        "outputId": "7706bd2c-ebaf-4de8-fe3e-1cae0cf19fbc"
      },
      "outputs": [
        {
          "name": "stdout",
          "output_type": "stream",
          "text": [
            "[[-3.10385806]] [9.39776831]\n",
            "[0 1]\n"
          ]
        }
      ],
      "source": [
        "from sklearn.linear_model import LogisticRegression\n",
        "\n",
        "x_train = [[1],[2],[3],[4],[5],[2.5],[3.5],[0],[3.1],[2.7],[2.8],[2.9]]\n",
        "y_train = [1,1,1,0,0,0,0,1,0,1,1,1]\n",
        "\n",
        "model = LogisticRegression(penalty='none')\n",
        "\n",
        "model.fit(x_train,y_train)\n",
        "\n",
        "print(model.coef_,model.intercept_)\n",
        "\n",
        "res = model.predict([[4.5],[1.1]])\n",
        "print(res)"
      ]
    }
  ],
  "metadata": {
    "colab": {
      "collapsed_sections": [],
      "provenance": []
    },
    "kernelspec": {
      "display_name": "Python 3.10.8 64-bit (microsoft store)",
      "language": "python",
      "name": "python3"
    },
    "language_info": {
      "name": "python",
      "version": "3.10.8"
    },
    "vscode": {
      "interpreter": {
        "hash": "4ced6d36ddbf31c1012113ba6b199f224ab27f15ca4c69a25e4d901b7fac7e14"
      }
    }
  },
  "nbformat": 4,
  "nbformat_minor": 0
}
