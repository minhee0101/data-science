{
  "cells": [
    {
      "cell_type": "code",
      "execution_count": 28,
      "metadata": {
        "colab": {
          "base_uri": "https://localhost:8080/"
        },
        "id": "9_Bwosr4Yutk",
        "outputId": "f3a26430-2c93-48fb-ea4e-747dbfe4bc95"
      },
      "outputs": [
        {
          "name": "stdout",
          "output_type": "stream",
          "text": [
            "x =  tensor([[1, 2, 3],\n",
            "        [4, 5, 6],\n",
            "        [7, 8, 9]])\n",
            "y =  tensor([[1., 2., 3.],\n",
            "        [4., 5., 6.],\n",
            "        [7., 8., 9.]])\n",
            "Size:   torch.Size([3, 3])\n",
            "Shape:  torch.Size([3, 3])\n",
            "차원(랭크):  2\n"
          ]
        }
      ],
      "source": [
        "#Tensor\n",
        "\n",
        "import torch\n",
        "\n",
        "x = torch.tensor([[1,2,3],[4,5,6],[7,8,9]])\n",
        "y = torch.FloatTensor([[1,2,3],[4,5,6],[7,8,9]])\n",
        "\n",
        "print(\"x = \", x)\n",
        "print(\"y = \", y)\n",
        "\n",
        "print(\"Size:  \",x.size())\n",
        "print(\"Shape: \",x.shape)\n",
        "print(\"차원(랭크): \",x.ndimension())"
      ]
    },
    {
      "cell_type": "code",
      "execution_count": 29,
      "metadata": {
        "colab": {
          "base_uri": "https://localhost:8080/"
        },
        "id": "8Gfm9n_1aFjo",
        "outputId": "d8cbe190-959c-41f5-8bba-5cb80ae35e76"
      },
      "outputs": [
        {
          "name": "stdout",
          "output_type": "stream",
          "text": [
            "x0.shape:  torch.Size([1, 3, 3])\n",
            "x1.shape:  torch.Size([3, 1, 3])\n",
            "x2.shape:  torch.Size([3, 3, 1])\n",
            "x0 =  tensor([[[1, 2, 3],\n",
            "         [4, 5, 6],\n",
            "         [7, 8, 9]]])\n",
            "x1 =  tensor([[[1, 2, 3]],\n",
            "\n",
            "        [[4, 5, 6]],\n",
            "\n",
            "        [[7, 8, 9]]])\n",
            "x2 =  tensor([[[1],\n",
            "         [2],\n",
            "         [3]],\n",
            "\n",
            "        [[4],\n",
            "         [5],\n",
            "         [6]],\n",
            "\n",
            "        [[7],\n",
            "         [8],\n",
            "         [9]]])\n",
            "x3 =  tensor([[1, 2, 3],\n",
            "        [4, 5, 6],\n",
            "        [7, 8, 9]])\n",
            "x3.shape =  torch.Size([3, 3])\n"
          ]
        }
      ],
      "source": [
        "x0 = torch.unsqueeze(x,0)\n",
        "x1 = torch.unsqueeze(x,1)\n",
        "x2 = torch.unsqueeze(x,2)\n",
        "\n",
        "\n",
        "print(\"x0.shape: \",x0.shape)\n",
        "print(\"x1.shape: \",x1.shape)\n",
        "print(\"x2.shape: \",x2.shape)\n",
        "print(\"x0 = \", x0)\n",
        "print(\"x1 = \", x1)\n",
        "print(\"x2 = \", x2)\n",
        "\n",
        "x3 = torch.squeeze(torch.squeeze(x0))\n",
        "print(\"x3 = \",x3)\n",
        "print(\"x3.shape = \",x3.shape)"
      ]
    },
    {
      "cell_type": "code",
      "execution_count": 30,
      "metadata": {
        "colab": {
          "base_uri": "https://localhost:8080/"
        },
        "id": "Q_TQ1BMNaiHd",
        "outputId": "9cf0f6b0-6b2f-4bdd-8ce2-abc2d360ec4d"
      },
      "outputs": [
        {
          "name": "stdout",
          "output_type": "stream",
          "text": [
            "x4 =  tensor([1, 2, 3, 4, 5, 6, 7, 8, 9])\n",
            "x5 =  tensor([[[1, 2, 3],\n",
            "         [4, 5, 6],\n",
            "         [7, 8, 9]]])\n"
          ]
        }
      ],
      "source": [
        "x4 = x.view(9)\n",
        "x5 = x.view(1,3,3)\n",
        "print(\"x4 = \", x4)\n",
        "print(\"x5 = \", x5)\n"
      ]
    },
    {
      "cell_type": "code",
      "execution_count": 33,
      "metadata": {
        "colab": {
          "base_uri": "https://localhost:8080/"
        },
        "id": "Kusr6sDtbED0",
        "outputId": "7a2d3d25-bd5e-4760-da77-340cc69705fb"
      },
      "outputs": [
        {
          "name": "stdout",
          "output_type": "stream",
          "text": [
            "tensor([[-1.1221],\n",
            "        [-3.5103],\n",
            "        [-4.9084]])\n"
          ]
        }
      ],
      "source": [
        "#행렬연산\n",
        "\n",
        "x = torch.FloatTensor([[1,2],[3,4],[5,6]])\n",
        "w = torch.randn(1,2, dtype=torch.float)\n",
        "b = torch.randn(3,1, dtype=torch.float)\n",
        "\n",
        "result = torch.mm(x, torch.t(w)) +b\n",
        "print(result)"
      ]
    },
    {
      "cell_type": "code",
      "execution_count": 34,
      "metadata": {
        "colab": {
          "base_uri": "https://localhost:8080/"
        },
        "id": "i6JKMFNwbszd",
        "outputId": "cd4276e8-b87d-4c9f-a12d-ca9bf61c69eb"
      },
      "outputs": [
        {
          "name": "stdout",
          "output_type": "stream",
          "text": [
            "l을 w로 미분한 값은 tensor(18.)\n"
          ]
        }
      ],
      "source": [
        "#Autograd: 기울기 계산\n",
        "\n",
        "w = torch.tensor(1.0, requires_grad=True)\n",
        "a = w*3\n",
        "l = a**2\n",
        "l.backward()\n",
        "print(\"l을 w로 미분한 값은\",w.grad)"
      ]
    },
    {
      "cell_type": "code",
      "execution_count": 36,
      "metadata": {
        "colab": {
          "base_uri": "https://localhost:8080/"
        },
        "id": "lY-0eBL5dmjg",
        "outputId": "9dc3e17b-0924-4f24-f4a9-da40ca315518"
      },
      "outputs": [
        {
          "name": "stdout",
          "output_type": "stream",
          "text": [
            "peoch: 0, corst: 122.800003, w: tensor([0.3840, 0.7440]), b:tensor([[0.1360]])\n",
            "peoch: 100, corst: 1.533757, w: tensor([0.6226, 3.1603]), b:tensor([[-1.3651]])\n",
            "peoch: 200, corst: 0.758241, w: tensor([0.9143, 3.1864]), b:tensor([[-2.1790]])\n",
            "peoch: 300, corst: 0.389288, w: tensor([1.2106, 3.1417]), b:tensor([[-2.7023]])\n",
            "peoch: 400, corst: 0.200058, w: tensor([1.4328, 3.1025]), b:tensor([[-3.0705]])\n",
            "peoch: 500, corst: 0.102813, w: tensor([1.5932, 3.0736]), b:tensor([[-3.3338]])\n",
            "peoch: 600, corst: 0.052838, w: tensor([1.7084, 3.0528]), b:tensor([[-3.5224]])\n",
            "peoch: 700, corst: 0.027154, w: tensor([1.7909, 3.0378]), b:tensor([[-3.6576]])\n",
            "peoch: 800, corst: 0.013955, w: tensor([1.8501, 3.0271]), b:tensor([[-3.7546]])\n",
            "peoch: 900, corst: 0.007172, w: tensor([1.8926, 3.0194]), b:tensor([[-3.8241]])\n",
            "peoch: 1000, corst: 0.003686, w: tensor([1.9230, 3.0139]), b:tensor([[-3.8739]])\n",
            "peoch: 1100, corst: 0.001894, w: tensor([1.9448, 3.0100]), b:tensor([[-3.9096]])\n",
            "peoch: 1200, corst: 0.000973, w: tensor([1.9604, 3.0072]), b:tensor([[-3.9352]])\n",
            "peoch: 1300, corst: 0.000500, w: tensor([1.9716, 3.0051]), b:tensor([[-3.9535]])\n",
            "peoch: 1400, corst: 0.000257, w: tensor([1.9797, 3.0037]), b:tensor([[-3.9667]])\n",
            "peoch: 1500, corst: 0.000132, w: tensor([1.9854, 3.0026]), b:tensor([[-3.9761]])\n",
            "peoch: 1600, corst: 0.000068, w: tensor([1.9895, 3.0019]), b:tensor([[-3.9829]])\n",
            "peoch: 1700, corst: 0.000035, w: tensor([1.9925, 3.0014]), b:tensor([[-3.9877]])\n",
            "peoch: 1800, corst: 0.000018, w: tensor([1.9946, 3.0010]), b:tensor([[-3.9912]])\n",
            "peoch: 1900, corst: 0.000009, w: tensor([1.9961, 3.0007]), b:tensor([[-3.9937]])\n",
            "peoch: 2000, corst: 0.000005, w: tensor([1.9972, 3.0005]), b:tensor([[-3.9955]])\n",
            "peoch: 2100, corst: 0.000002, w: tensor([1.9980, 3.0004]), b:tensor([[-3.9968]])\n",
            "peoch: 2200, corst: 0.000001, w: tensor([1.9986, 3.0003]), b:tensor([[-3.9977]])\n",
            "peoch: 2300, corst: 0.000001, w: tensor([1.9990, 3.0002]), b:tensor([[-3.9983]])\n",
            "peoch: 2400, corst: 0.000000, w: tensor([1.9993, 3.0001]), b:tensor([[-3.9988]])\n",
            "peoch: 2500, corst: 0.000000, w: tensor([1.9995, 3.0001]), b:tensor([[-3.9991]])\n",
            "peoch: 2600, corst: 0.000000, w: tensor([1.9996, 3.0001]), b:tensor([[-3.9994]])\n",
            "peoch: 2700, corst: 0.000000, w: tensor([1.9997, 3.0000]), b:tensor([[-3.9996]])\n",
            "peoch: 2800, corst: 0.000000, w: tensor([1.9998, 3.0000]), b:tensor([[-3.9997]])\n",
            "peoch: 2900, corst: 0.000000, w: tensor([1.9999, 3.0000]), b:tensor([[-3.9998]])\n",
            "peoch: 3000, corst: 0.000000, w: tensor([1.9999, 3.0000]), b:tensor([[-3.9998]])\n"
          ]
        }
      ],
      "source": [
        "#Linear Regrassion\n",
        "\n",
        "x_train = torch.FloatTensor([[1,2],[3,2],[3,7],[1,1],[1,0]])\n",
        "y_train = torch.FloatTensor([[4],[8],[23],[1],[-2]])\n",
        "\n",
        "w = torch.zeros(2,1)\n",
        "b = torch.zeros(1,1)\n",
        "\n",
        "lr = 0.01\n",
        "\n",
        "for epoch in range(3001):\n",
        "  w.requires_grad_(True)\n",
        "  b.requires_grad_(True)\n",
        "  hypothesis = torch.mm(x_train, w) + b\n",
        "  cost = torch.mean((hypothesis - y_train) ** 2)\n",
        "  cost.backward()\n",
        "\n",
        "  with torch.no_grad() as grd:\n",
        "    w = w - lr * w.grad\n",
        "    b = b - lr * b.grad\n",
        "  \n",
        "  if epoch % 100 == 0:\n",
        "    print(\"peoch: {}, corst: {:.6f}, w: {}, b:{}\".format(epoch,cost.item(),w.squeeze(),b))"
      ]
    },
    {
      "cell_type": "code",
      "execution_count": 38,
      "metadata": {
        "colab": {
          "base_uri": "https://localhost:8080/"
        },
        "id": "Wtj_CKjcfoMh",
        "outputId": "06e35726-9787-4d75-a9b7-9b8e7614bdb2"
      },
      "outputs": [
        {
          "name": "stdout",
          "output_type": "stream",
          "text": [
            "35.99984359741211\n"
          ]
        }
      ],
      "source": [
        "x_test = torch.FloatTensor([[5,10]])\n",
        "test_result = torch.mm(x_test, w) + b\n",
        "print(test_result.item())\n"
      ]
    },
    {
      "cell_type": "code",
      "execution_count": 47,
      "metadata": {
        "colab": {
          "base_uri": "https://localhost:8080/"
        },
        "id": "qCidX-lMgdzx",
        "outputId": "3ac22d6d-1b1f-4b84-e4f6-8f9eb58fd2c7"
      },
      "outputs": [
        {
          "name": "stdout",
          "output_type": "stream",
          "text": [
            "[[2. 3.]] [-4.]\n",
            "[[36.]]\n"
          ]
        }
      ],
      "source": [
        "from sklearn.linear_model import LinearRegression\n",
        "\n",
        "y = [[1,2],[3,2],[3,7],[1,1],[1,0]]\n",
        "y = [[4],[8],[23],[1],[-2]]\n",
        "\n",
        "\n",
        "lr = LinearRegression()\n",
        "lr.fit(x,y)\n",
        "\n",
        "print(lr.coef_,lr.intercept_)\n",
        "print(lr.predict([[5,10]]))"
      ]
    }
  ],
  "metadata": {
    "colab": {
      "collapsed_sections": [],
      "provenance": []
    },
    "kernelspec": {
      "display_name": "Python 3.10.8 64-bit (microsoft store)",
      "language": "python",
      "name": "python3"
    },
    "language_info": {
      "name": "python",
      "version": "3.10.8"
    },
    "vscode": {
      "interpreter": {
        "hash": "4ced6d36ddbf31c1012113ba6b199f224ab27f15ca4c69a25e4d901b7fac7e14"
      }
    }
  },
  "nbformat": 4,
  "nbformat_minor": 0
}
